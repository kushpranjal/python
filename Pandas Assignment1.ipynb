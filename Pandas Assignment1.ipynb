{
 "cells": [
  {
   "cell_type": "code",
   "execution_count": 99,
   "metadata": {},
   "outputs": [
    {
     "name": "stdout",
     "output_type": "stream",
     "text": [
      "     Name        Salary\n",
      "0    Amit     $100,000 \n",
      "1   Sumit     $200,000 \n",
      "2   Suman     $600,000 \n",
      "3   Kiran     $640,000 \n",
      "4    John     $300,000 \n",
      "5  Lokesh           NaN\n",
      "6     NaN     $300,000 \n",
      "7    Amar           NaN\n",
      "8     NaN  $600,000.00 \n"
     ]
    }
   ],
   "source": [
    "#Pandas assignment \n",
    "#1. find the net salary after 30% deduction of tax\n",
    "#2. remove all the rows having Null values\n",
    "#3. Filter the salaries of people where name starts with S\n",
    "#4. create another column Int_Sal where salary is stored as integer type\n",
    "#5. Find the name of employee having maximum salary\n",
    "#6. Filter the salaries of employees having n in the last\n",
    "#7. Count the number of salaries where null values are not there\n",
    "#8. Sort the data based on Name\n",
    "#9. filter the names of employees where salary is between 400000 and 600000\n",
    "#10. Find the Mean salary from the salary colum\n",
    "import pandas as pd \n",
    "import numpy as np \n",
    "import re\n",
    "df=pd.read_csv(\"D:\\\\study\\\\python\\\\data\\\\student2.csv\",header=0)\n",
    "print(df)"
   ]
  },
  {
   "cell_type": "code",
   "execution_count": 117,
   "metadata": {},
   "outputs": [
    {
     "name": "stdout",
     "output_type": "stream",
     "text": [
      "1917999.9999999998\n"
     ]
    }
   ],
   "source": [
    "#1. find the net salary after 30% deduction of tax\n",
    "#df[\"Salary_int\"]=df.Salary.apply(lambda x:x.replace(\"$\",\"\")).apply(lambda x:x.replace(\",\",\"\")).astype(np.float)\n",
    "df['NetSalary1']=df['Salary'].replace('[\\$,]', '', regex=True).astype(float)\n",
    "print(np.sum(df['NetSalary1'])*0.7)\n",
    "#while using normal summation function sum it will print nan as some values are none \n",
    "#but while using np.sum it will ignore null values\n",
    "#similarly replacing using regex will ignore the null values and will not terminate the programme "
   ]
  },
  {
   "cell_type": "code",
   "execution_count": 74,
   "metadata": {},
   "outputs": [
    {
     "name": "stdout",
     "output_type": "stream",
     "text": [
      "    Name     Salary  NetSalary1\n",
      "0   Amit  $100,000     100000.0\n",
      "1  Sumit  $200,000     200000.0\n",
      "2  Suman  $600,000     600000.0\n",
      "3  Kiran  $640,000     640000.0\n",
      "4   John  $300,000     300000.0\n"
     ]
    }
   ],
   "source": [
    "#2. remove all the rows having Null values\n",
    "df=df.dropna()\n",
    "print(df)"
   ]
  },
  {
   "cell_type": "code",
   "execution_count": 82,
   "metadata": {},
   "outputs": [
    {
     "name": "stdout",
     "output_type": "stream",
     "text": [
      "Sumit\n",
      "Suman\n"
     ]
    }
   ],
   "source": [
    "#3. Filter the salaries of people where name starts with S\n",
    "#ans1\n",
    "for value in df.Name:\n",
    "    if value[0]==\"S\":\n",
    "        print(value)\n",
    "#ans2\n",
    "#dd = df[df.Name.str[0]=='S']\n",
    "#print dd.head(10)dd = df[df.Name.str[0]=='S']\n",
    "#print dd.head(10)"
   ]
  },
  {
   "cell_type": "code",
   "execution_count": 118,
   "metadata": {},
   "outputs": [
    {
     "name": "stdout",
     "output_type": "stream",
     "text": [
      "<class 'pandas.core.series.Series'>\n"
     ]
    }
   ],
   "source": [
    "#4. create another column Int_Sal where salary is stored as integer type\n",
    "#here net salary is in float we have to downcast it to a lower value \n",
    "df[\"Int_sal\"]=pd.to_numeric(df.NetSalary1,downcast=\"integer\",errors=\"ignore\")\n",
    "print(type(df.Int_sal))"
   ]
  },
  {
   "cell_type": "code",
   "execution_count": 89,
   "metadata": {},
   "outputs": [
    {
     "data": {
      "text/plain": [
       "3    Kiran\n",
       "Name: Name, dtype: object"
      ]
     },
     "execution_count": 89,
     "metadata": {},
     "output_type": "execute_result"
    }
   ],
   "source": [
    "#5. Find the name of employee having maximum salary\n",
    "df[df.Salary==np.max(df.Salary)].Name"
   ]
  },
  {
   "cell_type": "code",
   "execution_count": 95,
   "metadata": {},
   "outputs": [
    {
     "data": {
      "text/plain": [
       "2    $600,000 \n",
       "3    $640,000 \n",
       "4    $300,000 \n",
       "Name: Salary, dtype: object"
      ]
     },
     "execution_count": 95,
     "metadata": {},
     "output_type": "execute_result"
    }
   ],
   "source": [
    "#6. Filter the salaries of employees having n in the last\n",
    "#ans1\n",
    "\"\"\"\n",
    "for line in df.Name:\n",
    "    if line[-1]==\"n\":\n",
    "        print(line)\n",
    "\"\"\"\n",
    "#ans2\n",
    "df[df.Name.str[-1]=='n'].Salary"
   ]
  },
  {
   "cell_type": "code",
   "execution_count": 102,
   "metadata": {},
   "outputs": [
    {
     "name": "stdout",
     "output_type": "stream",
     "text": [
      "7\n",
      "9\n"
     ]
    }
   ],
   "source": [
    "#7. Count the number of salaries where null values are not there\n",
    "print(df.Salary.count())#this will show count  without null values \n",
    "print(len(df.Salary))#this will show count including null values "
   ]
  },
  {
   "cell_type": "code",
   "execution_count": 116,
   "metadata": {},
   "outputs": [
    {
     "data": {
      "text/html": [
       "<div>\n",
       "<style scoped>\n",
       "    .dataframe tbody tr th:only-of-type {\n",
       "        vertical-align: middle;\n",
       "    }\n",
       "\n",
       "    .dataframe tbody tr th {\n",
       "        vertical-align: top;\n",
       "    }\n",
       "\n",
       "    .dataframe thead th {\n",
       "        text-align: right;\n",
       "    }\n",
       "</style>\n",
       "<table border=\"1\" class=\"dataframe\">\n",
       "  <thead>\n",
       "    <tr style=\"text-align: right;\">\n",
       "      <th></th>\n",
       "      <th>Name</th>\n",
       "      <th>Salary</th>\n",
       "    </tr>\n",
       "  </thead>\n",
       "  <tbody>\n",
       "    <tr>\n",
       "      <th>7</th>\n",
       "      <td>Amar</td>\n",
       "      <td>NaN</td>\n",
       "    </tr>\n",
       "    <tr>\n",
       "      <th>0</th>\n",
       "      <td>Amit</td>\n",
       "      <td>$100,000</td>\n",
       "    </tr>\n",
       "    <tr>\n",
       "      <th>4</th>\n",
       "      <td>John</td>\n",
       "      <td>$300,000</td>\n",
       "    </tr>\n",
       "    <tr>\n",
       "      <th>3</th>\n",
       "      <td>Kiran</td>\n",
       "      <td>$640,000</td>\n",
       "    </tr>\n",
       "    <tr>\n",
       "      <th>5</th>\n",
       "      <td>Lokesh</td>\n",
       "      <td>NaN</td>\n",
       "    </tr>\n",
       "    <tr>\n",
       "      <th>2</th>\n",
       "      <td>Suman</td>\n",
       "      <td>$600,000</td>\n",
       "    </tr>\n",
       "    <tr>\n",
       "      <th>1</th>\n",
       "      <td>Sumit</td>\n",
       "      <td>$200,000</td>\n",
       "    </tr>\n",
       "    <tr>\n",
       "      <th>6</th>\n",
       "      <td>NaN</td>\n",
       "      <td>$300,000</td>\n",
       "    </tr>\n",
       "    <tr>\n",
       "      <th>8</th>\n",
       "      <td>NaN</td>\n",
       "      <td>$600,000.00</td>\n",
       "    </tr>\n",
       "  </tbody>\n",
       "</table>\n",
       "</div>"
      ],
      "text/plain": [
       "     Name        Salary\n",
       "7    Amar           NaN\n",
       "0    Amit     $100,000 \n",
       "4    John     $300,000 \n",
       "3   Kiran     $640,000 \n",
       "5  Lokesh           NaN\n",
       "2   Suman     $600,000 \n",
       "1   Sumit     $200,000 \n",
       "6     NaN     $300,000 \n",
       "8     NaN  $600,000.00 "
      ]
     },
     "execution_count": 116,
     "metadata": {},
     "output_type": "execute_result"
    }
   ],
   "source": [
    "#8. Sort the data based on Name\n",
    "df.sort_values(by=\"Name\",ascending=True)\n",
    "#help(df.sort_values)"
   ]
  },
  {
   "cell_type": "code",
   "execution_count": 142,
   "metadata": {},
   "outputs": [
    {
     "data": {
      "text/plain": [
       "2    Suman\n",
       "8      NaN\n",
       "Name: Name, dtype: object"
      ]
     },
     "execution_count": 142,
     "metadata": {},
     "output_type": "execute_result"
    }
   ],
   "source": [
    "#9. filter the names of employees where salary is between 400000 and 600000\n",
    "#ans1\n",
    "\"\"\"\n",
    "for val in df.Int_sal:\n",
    "    if val>=400000 and val<=600000:\n",
    "        print(df[df.Int_sal==val].Name)\n",
    "\"\"\"\n",
    "#ans2\n",
    "df[(df.Int_sal>=400000) & ( df.Int_sal<=600000)].Name"
   ]
  },
  {
   "cell_type": "code",
   "execution_count": 143,
   "metadata": {},
   "outputs": [
    {
     "data": {
      "text/plain": [
       "391428.5714285714"
      ]
     },
     "execution_count": 143,
     "metadata": {},
     "output_type": "execute_result"
    }
   ],
   "source": [
    "#10. Find the Mean salary from the salary colum\n",
    "np.mean(df.Int_sal)"
   ]
  },
  {
   "cell_type": "code",
   "execution_count": null,
   "metadata": {},
   "outputs": [],
   "source": []
  }
 ],
 "metadata": {
  "kernelspec": {
   "display_name": "Python 3",
   "language": "python",
   "name": "python3"
  },
  "language_info": {
   "codemirror_mode": {
    "name": "ipython",
    "version": 3
   },
   "file_extension": ".py",
   "mimetype": "text/x-python",
   "name": "python",
   "nbconvert_exporter": "python",
   "pygments_lexer": "ipython3",
   "version": "3.7.0"
  }
 },
 "nbformat": 4,
 "nbformat_minor": 2
}
